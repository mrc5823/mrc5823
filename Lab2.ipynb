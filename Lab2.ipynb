{
  "nbformat": 4,
  "nbformat_minor": 0,
  "metadata": {
    "colab": {
      "name": "Lab2.ipynb",
      "provenance": [],
      "include_colab_link": true
    },
    "kernelspec": {
      "name": "python3",
      "display_name": "Python 3"
    }
  },
  "cells": [
    {
      "cell_type": "markdown",
      "metadata": {
        "id": "view-in-github",
        "colab_type": "text"
      },
      "source": [
        "<a href=\"https://colab.research.google.com/github/mrc5823/mrc5823/blob/master/Lab2.ipynb\" target=\"_parent\"><img src=\"https://colab.research.google.com/assets/colab-badge.svg\" alt=\"Open In Colab\"/></a>"
      ]
    },
    {
      "cell_type": "markdown",
      "metadata": {
        "id": "6sOc4Uyr4U-Z",
        "colab_type": "text"
      },
      "source": [
        "## Graph Types"
      ]
    },
    {
      "cell_type": "markdown",
      "metadata": {
        "id": "0zZdVLAd5CYr",
        "colab_type": "text"
      },
      "source": [
        "Creator\n",
        "* Matthew Cowgill"
      ]
    },
    {
      "cell_type": "markdown",
      "metadata": {
        "id": "g-r6Clq45Hn4",
        "colab_type": "text"
      },
      "source": [
        "### Deviation\n"
      ]
    },
    {
      "cell_type": "markdown",
      "metadata": {
        "id": "2gorxo6E7A0t",
        "colab_type": "text"
      },
      "source": [
        "![alt text](https://github.com/mrc5823/mrc5823/blob/master/Deviation.PNG?raw=true)"
      ]
    },
    {
      "cell_type": "markdown",
      "metadata": {
        "id": "w6bZ_NEi7E3w",
        "colab_type": "text"
      },
      "source": [
        "#### What is this telling us?"
      ]
    },
    {
      "cell_type": "markdown",
      "metadata": {
        "id": "95L-spaC7QHF",
        "colab_type": "text"
      },
      "source": [
        "This graph shows the standard deviation of WinPts and the WinPts for the years 2000-2016 when the winning mascot is an Eagle. This graph allows you to see when the win points were more consistent with WinPts as the standard deviation line would dip lower. From this graph you can also see the average WinPts for a team."
      ]
    },
    {
      "cell_type": "markdown",
      "metadata": {
        "id": "YgXyXjmz7cDP",
        "colab_type": "text"
      },
      "source": [
        "### Correlation\n"
      ]
    },
    {
      "cell_type": "markdown",
      "metadata": {
        "id": "SGx15rZq7hvt",
        "colab_type": "text"
      },
      "source": [
        "![alt text](https://github.com/mrc5823/mrc5823/blob/master/Correlation.PNG?raw=true)"
      ]
    },
    {
      "cell_type": "markdown",
      "metadata": {
        "id": "dljjONNi7jmj",
        "colab_type": "text"
      },
      "source": [
        "#### What is this telling us?"
      ]
    },
    {
      "cell_type": "markdown",
      "metadata": {
        "id": "PwZEZrFB7laG",
        "colab_type": "text"
      },
      "source": [
        "For this graph, I wanted to find the correlation between win points and day of the week. This graph highlights the correlation between day of the week and average points score in winning games. In 1990, the highest average points were typically scored on a Saturday but 6 years later, the average win points were highest on Mondays."
      ]
    },
    {
      "cell_type": "markdown",
      "metadata": {
        "id": "MqUdI-uL7r2s",
        "colab_type": "text"
      },
      "source": [
        "### Ranking\n"
      ]
    },
    {
      "cell_type": "markdown",
      "metadata": {
        "id": "AvlxCOVt7x9F",
        "colab_type": "text"
      },
      "source": [
        "![alt text](https://github.com/mrc5823/mrc5823/blob/master/ranking.PNG?raw=true)"
      ]
    },
    {
      "cell_type": "markdown",
      "metadata": {
        "id": "lCAYtfza7yTq",
        "colab_type": "text"
      },
      "source": [
        "#### What is this telling us?"
      ]
    },
    {
      "cell_type": "markdown",
      "metadata": {
        "id": "MyuciD277ygU",
        "colab_type": "text"
      },
      "source": [
        "This graph is unique. This graph highlights which seasons the most points were scored in winning games. Some key things to focus on are the 1989 season where there was the most points scored across winning games, followed by 2017 almost 30 years later. Interestingly enough both the years prior to '89 and '17 were ranked at number 3 and 4 for most points scored. This graph is an excellent source for seeing which seasons were highest scoring. One outlier tends to be 1985 where the total number of win points was much lower compared to all other data points."
      ]
    },
    {
      "cell_type": "markdown",
      "metadata": {
        "id": "dGDGl8-G7y8Y",
        "colab_type": "text"
      },
      "source": [
        "### Distribution\n"
      ]
    },
    {
      "cell_type": "markdown",
      "metadata": {
        "id": "FB0uV-jy76p9",
        "colab_type": "text"
      },
      "source": [
        "![alt text](https://github.com/mrc5823/mrc5823/blob/master/distribution.PNG?raw=true)"
      ]
    },
    {
      "cell_type": "markdown",
      "metadata": {
        "id": "_6SOzhrQ76zH",
        "colab_type": "text"
      },
      "source": [
        "#### What is this telling us?"
      ]
    },
    {
      "cell_type": "markdown",
      "metadata": {
        "id": "HBWqsS_g767h",
        "colab_type": "text"
      },
      "source": [
        "Distribution graphs are excellent at highlighting spread. With this one in particular, we use a box-plot. Box plots show spread in a easy to understand way as well as outliers and expected ranges. Some key outliers to look at is the 1990 season with a winning score of almost 150 points! Some important spreads to highlight are those of 1998, 1999 and 2002. The range of expected values is much smaller than that of 1988, and 1996. This tells us that the games in '96 and '88 were much more diverse in terms of highest and lowest scores compared to '98, '99, and '02."
      ]
    },
    {
      "cell_type": "markdown",
      "metadata": {
        "id": "wQsDThk677Fy",
        "colab_type": "text"
      },
      "source": [
        "### Change over Time\n"
      ]
    },
    {
      "cell_type": "markdown",
      "metadata": {
        "id": "Z1j_YLOA7_OK",
        "colab_type": "text"
      },
      "source": [
        "![alt text](https://github.com/mrc5823/mrc5823/blob/master/change%20over%20time.PNG?raw=true)"
      ]
    },
    {
      "cell_type": "markdown",
      "metadata": {
        "id": "mpfsmmgi7_Vj",
        "colab_type": "text"
      },
      "source": [
        "#### What is this telling us?"
      ]
    },
    {
      "cell_type": "markdown",
      "metadata": {
        "id": "rYLXoMMO7_di",
        "colab_type": "text"
      },
      "source": [
        "This graph highlights a relatively small range of seasons but there is a clear trend in more points being scored from 1984-1990. There is also a small decrease in average win/lose points after 1988. This may conclude that something happened during the years of '84 and '85 that changed the game of basketball and led to more scoring overall. One noticable thing is that both win point trend lines and lose point trend lines both increase and decrease together. This helps us recognize that it wasnt just winning teams scoring more it was ALL teams on average scoring more points in those years."
      ]
    },
    {
      "cell_type": "markdown",
      "metadata": {
        "id": "lFwiHoE-7_jZ",
        "colab_type": "text"
      },
      "source": [
        "### Magnitude\n"
      ]
    },
    {
      "cell_type": "markdown",
      "metadata": {
        "id": "ICQFnXj78EbF",
        "colab_type": "text"
      },
      "source": [
        "![alt text](https://github.com/mrc5823/mrc5823/blob/master/magnitude.PNG?raw=true)"
      ]
    },
    {
      "cell_type": "markdown",
      "metadata": {
        "id": "QGG7XYG88Eii",
        "colab_type": "text"
      },
      "source": [
        "#### What is this telling us?"
      ]
    },
    {
      "cell_type": "markdown",
      "metadata": {
        "id": "VS7uGa0l8Eos",
        "colab_type": "text"
      },
      "source": [
        "Much like the trends identified with the change over time graph, this graph does a great job of showing how both win point and lose point averages grow and shrink simultaneously. For example, in 1985 the average win points was approximately 68 and the average lose points was 59. That is a differential of approximately 10. A few years later in 1989 the average win points was around 86 and the average lose points was 73. Very similar differences between two different data points."
      ]
    },
    {
      "cell_type": "markdown",
      "metadata": {
        "id": "bEKFxP8R8Evk",
        "colab_type": "text"
      },
      "source": [
        "### Part-to-Whole\n"
      ]
    },
    {
      "cell_type": "markdown",
      "metadata": {
        "id": "WFHlcYKV8E35",
        "colab_type": "text"
      },
      "source": [
        "![alt text](https://github.com/mrc5823/mrc5823/blob/master/part%20to%20whole.PNG?raw=true)"
      ]
    },
    {
      "cell_type": "markdown",
      "metadata": {
        "id": "PNSd3wlp8UZH",
        "colab_type": "text"
      },
      "source": [
        "#### What is this telling us?"
      ]
    },
    {
      "cell_type": "markdown",
      "metadata": {
        "id": "y9tb_QRA8aqt",
        "colab_type": "text"
      },
      "source": [
        "Part to whole graphs are really great at visualizing spatial relationships. This graph specifically shows how much each entity (team) contributes to the entirety of the win points scored. Its very easy to identify which teams scored the most points. For example, North Carolina has scored the same amount of points as both UNLV and Cincinnati combined. The organization of this graph shows which teams scored the most in addition to highlighting how much more win points they earned versus other teams in the league."
      ]
    }
  ]
}