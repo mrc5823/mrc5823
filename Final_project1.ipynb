{
  "nbformat": 4,
  "nbformat_minor": 0,
  "metadata": {
    "colab": {
      "name": "Final project1.ipynb",
      "provenance": [],
      "include_colab_link": true
    },
    "kernelspec": {
      "name": "python3",
      "display_name": "Python 3"
    }
  },
  "cells": [
    {
      "cell_type": "markdown",
      "metadata": {
        "id": "view-in-github",
        "colab_type": "text"
      },
      "source": [
        "<a href=\"https://colab.research.google.com/github/mrc5823/mrc5823/blob/master/Final_project1.ipynb\" target=\"_parent\"><img src=\"https://colab.research.google.com/assets/colab-badge.svg\" alt=\"Open In Colab\"/></a>"
      ]
    },
    {
      "cell_type": "markdown",
      "metadata": {
        "id": "FQv1wVzkS5Ty",
        "colab_type": "text"
      },
      "source": [
        "# Project Name (1)\n",
        "https://catalog.data.gov/dataset/accidents-fatalities-and-rates-1995-through-2014-u-s-general-aviation "
      ]
    },
    {
      "cell_type": "markdown",
      "metadata": {
        "id": "drLq4LPVS6xY",
        "colab_type": "text"
      },
      "source": [
        "Contributors:\n",
        "\n",
        "\n",
        "*   Aaron Kerman\n",
        "*   Allison Givler\n",
        "*   Matthew Cowgill\n"
      ]
    },
    {
      "cell_type": "markdown",
      "metadata": {
        "id": "H3sIzBwBS9eO",
        "colab_type": "text"
      },
      "source": [
        "## Background"
      ]
    },
    {
      "cell_type": "markdown",
      "metadata": {
        "id": "ojTTD6gZS_yZ",
        "colab_type": "text"
      },
      "source": [
        "For our final group project, we were asked to choose a topic of our choice and find or make a dataset on that topic. Once we found/made the dataset for our topic, we were to state assumptions that we made about the data before developing a graphic to describe the parts of the dataset that we chose to highlight. Our group wanted to find an interesting project topic that we could make a fun and informative graph on. The hardest part was finding such a topic that also had a dataset associated with it. We looked on a website that had a ton of free datasets, organized by a broad assortment of topics. While browsing through the website, we came across a dataset that was focused on general aviation and the fatalities and flight hours associated with it. We chose that dataset to use to display a graphical representation. The dataset contained the year, number of total accidents, number of total fatalities, the number of people aboard the plane in that year, the total flight hours for the year and the fatal number of flight hours. The years that this data was recorded during was from 1975 to 2014. The flight hours for this dataset were estimated by the Federal Aviation Administration. For our project, we decided to focus on flight hours and number of fatalities. Specifically, we wanted to see if there was any correlation between a high number of flight hours, and whether or not it usually leads to a high number of fatalities. "
      ]
    },
    {
      "cell_type": "markdown",
      "metadata": {
        "id": "9I8vrvZiTBjW",
        "colab_type": "text"
      },
      "source": [
        "### Goal"
      ]
    },
    {
      "cell_type": "markdown",
      "metadata": {
        "id": "1Jib7vtbTDyD",
        "colab_type": "text"
      },
      "source": [
        "Our goal for this project was to create a graph and see if there was any correlation between the number of flight hours and the number of fatalies caused by aviation."
      ]
    },
    {
      "cell_type": "markdown",
      "metadata": {
        "id": "EtsrMqVuTFVw",
        "colab_type": "text"
      },
      "source": [
        "### Assumptions"
      ]
    },
    {
      "cell_type": "markdown",
      "metadata": {
        "id": "l3kO1_VCTHN6",
        "colab_type": "text"
      },
      "source": [
        "*   The plane that was being flown was in good condition prior to takeoff\n",
        "*   The pilot was not committing suicide or an act of terrorism\n",
        "*   The pilot was fully qualified to fly the plane\n",
        "*   The pilot had flown that specific type of plane before\n",
        "*   There wasn't any unexpected weather that the pilot hadn't taken into account before taking off\n",
        "*   The company that owned the plane checked the plane before its flight\n",
        "*   The pilot had gotten a sufficient amount of sleep the night before\n",
        "*   No one had purposely sabotaged the plane before takeoff so that it would wreck\n",
        "*   The pilot did not die of natural causes while flying the plane\n",
        "*   The pilot was not flying more hours than they were supposed to when flying that last time"
      ]
    },
    {
      "cell_type": "markdown",
      "metadata": {
        "id": "7ysfxm3NTJN1",
        "colab_type": "text"
      },
      "source": [
        "### Data Sources"
      ]
    },
    {
      "cell_type": "markdown",
      "metadata": {
        "id": "oM78z0n_TLNU",
        "colab_type": "text"
      },
      "source": [
        "Once we knew what topic we wanted to use to make a graph and learn more information about, we did some research on more specifics of what would we wanted to show in our graph. We then searched websites for datasets containing the information we wanted. Our group look on the two websites cited below before we found the right dataset for the information we were wanting to convey on our graph. The first website we looked at, FiveThirty, had many dataset topics ranging from politics to sports to science and health. It was a little harder to find a dataset about the specific topic we were looking for, but we were still able to find a few. The second website that we used to find the actual dataset that we ended up pulling data from for our graph was Data.gov. This website was easier to navigate through the different data topics that they included and we had more options for what we were looking for. We had our choice from many datasets that fit the description of what we were looking to represent in a graphical sense. After opening up a few sets and playing around with the data in them, we found they didn’t really contain the data we needed for our graph. Finally, we found a dataset on The Bureau of Transportation Statistics’ website that fit perfect for us. Since we were able to find a dataset that contained all of the information that we were looking for, we did not need to combine any datasets.\n",
        "\n"
      ]
    },
    {
      "cell_type": "markdown",
      "metadata": {
        "id": "d7Wb_v5gTNq8",
        "colab_type": "text"
      },
      "source": [
        "#### Sources"
      ]
    },
    {
      "cell_type": "markdown",
      "metadata": {
        "id": "TzhJz19aTP9O",
        "colab_type": "text"
      },
      "source": [
        "“Aviation Data and Documentation from the NTSB Accident Database System.” Data.gov, Publisher National Transportation Safety Board, 17 Dec. 2015, catalog.data.gov/dataset/aviation-data-and-documentation-from-the-ntsb-accident-database-system.\n",
        "\n",
        "Planos, Josh, et al. “FiveThirtyEight.” FiveThirtyEight, 2020, \n",
        "\n",
        "“U.S. General Aviation Safety Data.” U.S. General Aviation Safety Data | Bureau of Transportation Statistics, 2019, www.bts.gov/content/us-general-aviationa-safety-data."
      ]
    },
    {
      "cell_type": "markdown",
      "metadata": {
        "id": "xBiszlF0TRfR",
        "colab_type": "text"
      },
      "source": [
        "## Dashboard (5)"
      ]
    },
    {
      "cell_type": "code",
      "metadata": {
        "id": "RNTtJ_VPTWMc",
        "colab_type": "code",
        "outputId": "9011acc2-47d4-4197-f958-fd094aba1149",
        "colab": {
          "base_uri": "https://localhost:8080/",
          "height": 1000
        }
      },
      "source": [
        "import IPython\n",
        "IPython.display.HTML(\"<div class='tableauPlaceholder' id='viz1588038378281' style='position: relative'><noscript><a href='#'><img alt=' ' src='https:&#47;&#47;public.tableau.com&#47;static&#47;images&#47;MF&#47;MFSCQ6X6X&#47;1_rss.png' style='border: none' /></a></noscript><object class='tableauViz'  style='display:none;'><param name='host_url' value='https%3A%2F%2Fpublic.tableau.com%2F' /> <param name='embed_code_version' value='3' /> <param name='path' value='shared&#47;MFSCQ6X6X' /> <param name='toolbar' value='yes' /><param name='static_image' value='https:&#47;&#47;public.tableau.com&#47;static&#47;images&#47;MF&#47;MFSCQ6X6X&#47;1.png' /> <param name='animate_transition' value='yes' /><param name='display_static_image' value='yes' /><param name='display_spinner' value='yes' /><param name='display_overlay' value='yes' /><param name='display_count' value='yes' /></object></div>                <script type='text/javascript'>                    var divElement = document.getElementById('viz1588038378281');                    var vizElement = divElement.getElementsByTagName('object')[0];                    vizElement.style.width='100%';vizElement.style.height=(divElement.offsetWidth*0.75)+'px';                    var scriptElement = document.createElement('script');                    scriptElement.src = 'https://public.tableau.com/javascripts/api/viz_v1.js';                    vizElement.parentNode.insertBefore(scriptElement, vizElement);                </script>\")"
      ],
      "execution_count": 0,
      "outputs": [
        {
          "output_type": "execute_result",
          "data": {
            "text/html": [
              "<div class='tableauPlaceholder' id='viz1588038378281' style='position: relative'><noscript><a href='#'><img alt=' ' src='https:&#47;&#47;public.tableau.com&#47;static&#47;images&#47;MF&#47;MFSCQ6X6X&#47;1_rss.png' style='border: none' /></a></noscript><object class='tableauViz'  style='display:none;'><param name='host_url' value='https%3A%2F%2Fpublic.tableau.com%2F' /> <param name='embed_code_version' value='3' /> <param name='path' value='shared&#47;MFSCQ6X6X' /> <param name='toolbar' value='yes' /><param name='static_image' value='https:&#47;&#47;public.tableau.com&#47;static&#47;images&#47;MF&#47;MFSCQ6X6X&#47;1.png' /> <param name='animate_transition' value='yes' /><param name='display_static_image' value='yes' /><param name='display_spinner' value='yes' /><param name='display_overlay' value='yes' /><param name='display_count' value='yes' /></object></div>                <script type='text/javascript'>                    var divElement = document.getElementById('viz1588038378281');                    var vizElement = divElement.getElementsByTagName('object')[0];                    vizElement.style.width='100%';vizElement.style.height=(divElement.offsetWidth*0.75)+'px';                    var scriptElement = document.createElement('script');                    scriptElement.src = 'https://public.tableau.com/javascripts/api/viz_v1.js';                    vizElement.parentNode.insertBefore(scriptElement, vizElement);                </script>"
            ],
            "text/plain": [
              "<IPython.core.display.HTML object>"
            ]
          },
          "metadata": {
            "tags": []
          },
          "execution_count": 1
        }
      ]
    },
    {
      "cell_type": "markdown",
      "metadata": {
        "id": "VI4PpVD6TXvP",
        "colab_type": "text"
      },
      "source": [
        "## Conclusion"
      ]
    },
    {
      "cell_type": "markdown",
      "metadata": {
        "id": "Wl3YPlhZTiru",
        "colab_type": "text"
      },
      "source": [
        "When analyzing our graph and some of the trends we found in the data we came to a few conclusions. Firstly, we were happy to see that flights were incredibly safe with very few fatalities from a year to year basis considering tens of thousands of people travel by air every day. We restricted the data to 2013-2018 so we could analyze more recent flights to get an accurate idea of how it is in 2020 (despite Covid-19 ruining everyone’s travel plans). The graph shows the very miniscule amount of fatalities that occur during the millions and millions of miles. An interesting relationship we found in the data was that from 2013 to 2018 flights seemed to be becoming safer with less fatalities in 2018 than in 2013 despite having 2 million more hours of flight in 2018. With information such as this we can reasonably conclude that fatalities caused by air travel are few and far between and are not strongly correlated with the amount of hours flown through the year. We suspect that many of the reasons for fatalities caused due to flight were due to assumptions being different than the ones we had written above. The dataset proved to be useful for what we wanted to learn and was comforting knowing that mostly flights are safe no matter the miles traveled."
      ]
    }
  ]
}