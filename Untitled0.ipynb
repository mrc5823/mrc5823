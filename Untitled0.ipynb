{
  "nbformat": 4,
  "nbformat_minor": 0,
  "metadata": {
    "colab": {
      "name": "Untitled0.ipynb",
      "provenance": [],
      "collapsed_sections": []
    },
    "kernelspec": {
      "name": "python3",
      "display_name": "Python 3"
    }
  },
  "cells": [
    {
      "cell_type": "code",
      "metadata": {
        "id": "LiYwA_FjSvQJ",
        "colab_type": "code",
        "colab": {}
      },
      "source": [
        "### Amount of Precipitation based on average temperatures.\n",
        "\n",
        "### The idea for my project is to paint a picture of the relationship between temperature and amount of precipitation. This could be represented in various different visual representations.\n",
        "\n",
        "### image\n",
        "\n",
        "### The results of this data and visuals lead me to believe as the low temp gets lower the higher the snowfall and lower the precipitation. However as the high temp rises the snowfall also diminishes significantly."
      ],
      "execution_count": 0,
      "outputs": []
    }
  ]
}